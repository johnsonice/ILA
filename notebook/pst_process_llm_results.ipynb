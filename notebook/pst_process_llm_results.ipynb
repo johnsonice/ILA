{
 "cells": [
  {
   "cell_type": "code",
   "execution_count": 1,
   "id": "55751015",
   "metadata": {},
   "outputs": [],
   "source": [
    "import sys\n",
    "from pathlib import Path\n",
    "\n",
    "# Add the src directory to Python path\n",
    "src_dir = Path(\"../src\")\n",
    "sys.path.append(str(src_dir.absolute()))\n",
    "\n",
    "from merge_llm_results import LLMResultsMerger, LLMResultsAnalyzer\n"
   ]
  },
  {
   "cell_type": "markdown",
   "id": "b91df6ac",
   "metadata": {},
   "source": [
    "#### Initialize merge object with data path "
   ]
  },
  {
   "cell_type": "code",
   "execution_count": 3,
   "id": "56138329",
   "metadata": {},
   "outputs": [
    {
     "name": "stdout",
     "output_type": "stream",
     "text": [
      "Custom raw data directory: /ephemeral/home/xiong/data/Fund/Factiva_News/2025\n",
      "Custom LLM results directory: /ephemeral/home/xiong/data/Fund/Factiva_News/results\n",
      "Custom output directory: /ephemeral/home/xiong/data/Fund/Factiva_News/enhanced\n",
      "Custom analyzer output directory: /ephemeral/home/xiong/data/Fund/Factiva_News/enhanced\n"
     ]
    }
   ],
   "source": [
    "# Custom paths using temp directory\n",
    "raw_data_dir = \"/ephemeral/home/xiong/data/Fund/Factiva_News/2025/\"\n",
    "llm_results_dir = \"/ephemeral/home/xiong/data/Fund/Factiva_News/results/\"\n",
    "output_dir = \"/ephemeral/home/xiong/data/Fund/Factiva_News/enhanced/\"\n",
    "\n",
    "# Create instances with custom paths\n",
    "merger = LLMResultsMerger(\n",
    "    raw_data_dir=raw_data_dir,\n",
    "    llm_results_dir=llm_results_dir,\n",
    "    output_dir=output_dir\n",
    ")\n",
    "\n",
    "analyzer = LLMResultsAnalyzer(output_dir=output_dir)\n",
    "\n",
    "print(f\"Custom raw data directory: {merger.raw_data_dir}\")\n",
    "print(f\"Custom LLM results directory: {merger.llm_results_dir}\")\n",
    "print(f\"Custom output directory: {merger.output_dir}\")\n",
    "print(f\"Custom analyzer output directory: {analyzer.output_dir}\")"
   ]
  },
  {
   "cell_type": "markdown",
   "id": "a20b1349",
   "metadata": {},
   "source": [
    "#### Find meragable pairs "
   ]
  },
  {
   "cell_type": "code",
   "execution_count": 4,
   "id": "b1ac88ba",
   "metadata": {},
   "outputs": [
    {
     "name": "stderr",
     "output_type": "stream",
     "text": [
      "2025-07-18 19:19:35,592 - WARNING - ⚠️  No LLM results found for 2025_articles_4.json\n",
      "2025-07-18 19:19:35,592 - INFO - ✅ Found pair: 2025_articles.json ↔ 2025_articles_countries_llm.json\n",
      "2025-07-18 19:19:35,593 - INFO - ✅ Found pair: 2025_articles_1.json ↔ 2025_articles_1_countries_llm.json\n",
      "2025-07-18 19:19:35,593 - WARNING - ⚠️  No LLM results found for 2025_articles_3.json\n",
      "2025-07-18 19:19:35,593 - WARNING - ⚠️  No LLM results found for 2025_articles_5.json\n",
      "2025-07-18 19:19:35,594 - WARNING - ⚠️  No LLM results found for 2025_articles_7.json\n",
      "2025-07-18 19:19:35,594 - INFO - ✅ Found pair: 2025_articles_2.json ↔ 2025_articles_2_countries_llm.json\n",
      "2025-07-18 19:19:35,594 - WARNING - ⚠️  No LLM results found for 2025_articles_6.json\n"
     ]
    },
    {
     "name": "stdout",
     "output_type": "stream",
     "text": [
      "Found 3 file pairs\n"
     ]
    }
   ],
   "source": [
    "# Discover and merge file pairsprint(\"Discovering file pairs...\")\n",
    "file_pairs = merger.discover_file_pairs()\n",
    "print(f\"Found {len(file_pairs)} file pairs\")"
   ]
  },
  {
   "cell_type": "markdown",
   "id": "6dd4a316",
   "metadata": {},
   "source": [
    "#### Merge Data"
   ]
  },
  {
   "cell_type": "code",
   "execution_count": 6,
   "id": "b6cfa105",
   "metadata": {},
   "outputs": [
    {
     "name": "stderr",
     "output_type": "stream",
     "text": [
      "2025-07-18 19:21:07,794 - WARNING - ⚠️  No LLM results found for 2025_articles_4.json\n",
      "2025-07-18 19:21:07,794 - INFO - ✅ Found pair: 2025_articles.json ↔ 2025_articles_countries_llm.json\n",
      "2025-07-18 19:21:07,795 - INFO - ✅ Found pair: 2025_articles_1.json ↔ 2025_articles_1_countries_llm.json\n",
      "2025-07-18 19:21:07,795 - WARNING - ⚠️  No LLM results found for 2025_articles_3.json\n",
      "2025-07-18 19:21:07,795 - WARNING - ⚠️  No LLM results found for 2025_articles_5.json\n",
      "2025-07-18 19:21:07,796 - WARNING - ⚠️  No LLM results found for 2025_articles_7.json\n",
      "2025-07-18 19:21:07,796 - INFO - ✅ Found pair: 2025_articles_2.json ↔ 2025_articles_2_countries_llm.json\n",
      "2025-07-18 19:21:07,797 - WARNING - ⚠️  No LLM results found for 2025_articles_6.json\n",
      "2025-07-18 19:21:07,797 - INFO - Processing 3 file pairs\n",
      "2025-07-18 19:21:07,797 - INFO - [1/3] Processing: 2025_articles.json\n",
      "2025-07-18 19:21:07,798 - INFO - Loading raw data from 2025_articles.json\n"
     ]
    },
    {
     "name": "stdout",
     "output_type": "stream",
     "text": [
      "\n",
      "Processing file pairs...\n"
     ]
    },
    {
     "name": "stderr",
     "output_type": "stream",
     "text": [
      "2025-07-18 19:21:11,668 - INFO - Loading LLM results from 2025_articles_countries_llm.json\n",
      "Merging articles: 100%|██████████| 88861/88861 [00:00<00:00, 236387.65it/s]\n",
      "2025-07-18 19:21:12,152 - INFO - Merge complete: 88861/88861 (100.0%) successful merges\n",
      "2025-07-18 19:21:18,202 - INFO - ✅ Saved enhanced articles to /ephemeral/home/xiong/data/Fund/Factiva_News/enhanced/enhanced_2025_articles.json\n",
      "2025-07-18 19:21:18,204 - INFO - [2/3] Processing: 2025_articles_1.json\n",
      "2025-07-18 19:21:18,204 - INFO - Loading raw data from 2025_articles_1.json\n",
      "2025-07-18 19:21:22,124 - INFO - Loading LLM results from 2025_articles_1_countries_llm.json\n",
      "Merging articles: 100%|██████████| 89240/89240 [00:00<00:00, 168676.78it/s]\n",
      "2025-07-18 19:21:22,755 - INFO - Merge complete: 89240/89240 (100.0%) successful merges\n",
      "2025-07-18 19:21:29,247 - INFO - ✅ Saved enhanced articles to /ephemeral/home/xiong/data/Fund/Factiva_News/enhanced/enhanced_2025_articles_1.json\n",
      "2025-07-18 19:21:29,248 - INFO - [3/3] Processing: 2025_articles_2.json\n",
      "2025-07-18 19:21:29,248 - INFO - Loading raw data from 2025_articles_2.json\n",
      "2025-07-18 19:21:33,034 - INFO - Loading LLM results from 2025_articles_2_countries_llm.json\n",
      "Merging articles: 100%|██████████| 89468/89468 [00:00<00:00, 143301.64it/s]\n",
      "2025-07-18 19:21:33,821 - INFO - Merge complete: 89468/89468 (100.0%) successful merges\n",
      "2025-07-18 19:21:40,393 - INFO - ✅ Saved enhanced articles to /ephemeral/home/xiong/data/Fund/Factiva_News/enhanced/enhanced_2025_articles_2.json\n"
     ]
    }
   ],
   "source": [
    "# Process all pairs and get stats\n",
    "print(\"\\nProcessing file pairs...\")\n",
    "stats = merger.process_all_file_pairs()"
   ]
  },
  {
   "cell_type": "code",
   "execution_count": 10,
   "id": "f8e72320",
   "metadata": {},
   "outputs": [
    {
     "name": "stdout",
     "output_type": "stream",
     "text": [
      "\n",
      "Merge Summary:\n",
      "Total Articles: 267,569\n",
      "Articles with Countries: 257,980\n",
      "Coverage Rate: 96.4%\n",
      "Articles with Multiple Countries: 113,544\n",
      "Multi-Country Rate: 42.4%\n"
     ]
    }
   ],
   "source": [
    "# Print summary statistics\n",
    "# Print summary statistics from analyzer\n",
    "print(\"\\nMerge Summary:\")\n",
    "print(f\"Total Articles: {stats['total_articles']:,}\")\n",
    "print(f\"Articles with Countries: {stats['articles_with_countries']:,}\")\n",
    "print(f\"Coverage Rate: {stats['coverage_rate']:.1f}%\")\n",
    "print(f\"Articles with Multiple Countries: {stats['articles_with_multiple_countries']:,}\")\n",
    "print(f\"Multi-Country Rate: {stats['multi_country_rate']:.1f}%\")"
   ]
  },
  {
   "cell_type": "markdown",
   "id": "9a77407c",
   "metadata": {},
   "source": [
    "### Basic Analysis of merged data "
   ]
  },
  {
   "cell_type": "code",
   "execution_count": null,
   "id": "a52c627c",
   "metadata": {},
   "outputs": [
    {
     "name": "stdout",
     "output_type": "stream",
     "text": [
      "\n",
      "Demonstrating sampling functionality:\n"
     ]
    }
   ],
   "source": [
    "# Demonstrate different sampling methods\n",
    "print(\"\\nDemonstrating sampling functionality:\")\n",
    "all_articles = analyzer.load_enhanced_articles()"
   ]
  },
  {
   "cell_type": "code",
   "execution_count": 26,
   "id": "af138328",
   "metadata": {},
   "outputs": [
    {
     "name": "stdout",
     "output_type": "stream",
     "text": [
      "\n",
      "🔍 1. Random sample of articles\n",
      "============================================================\n",
      "\n",
      "Sample article details:\n",
      "\n",
      "---\n",
      "Main Country: Philippines\n",
      "Other Countries: []\n",
      "Title: Philippine midterms: voter anger over cuts, Duterte's arrest threaten Marcos' Senate slate\n",
      "Snippet: Addressing Filipinos’ concerns about bread-and-butter issues will be key to winning their votes in the midterms, analysts say\n",
      "\n",
      "Senate candidates backed by Philippine President Ferdinand Marcos Jnr are...\n",
      "\n",
      "---\n",
      "Main Country: China\n",
      "Other Countries: ['United States']\n",
      "Title: China unfazed by Trump's 50% tariff threat, vows to fight to the end\n",
      "Snippet: US President Donald Trump on Monday threatened China with a whopping 50 per cent additional tariff, on top of the 34 per cent levy on Chinese imports announced a few days back. In response, China said...\n",
      "\n",
      "---\n",
      "Main Country: Yemen\n",
      "Other Countries: ['United States']\n",
      "Title: Trump designates Yemen's Houthis as a 'foreign terrorist organization'\n",
      "Snippet: WASHINGTON (Reuters) - U.S. President Donald Trump on Wednesday re-designated Yemen's Houthi movement, known formally as Ansar Allah, as a \"foreign terrorist organization\", the White House said.\n",
      "\n",
      "The ...\n",
      "\n",
      "---\n",
      "Main Country: Japan\n",
      "Other Countries: []\n",
      "Title: UPDATE1: Japan lower house OKs minority gov't's revised FY2025 draft budget\n",
      "Snippet: TOKYO, March 4 -- Japan's House of Representatives on Tuesday approved a revised 115.2 trillion yen ($773 billion) draft budget for fiscal 2025 after Prime Minister Shigeru Ishiba's minority governmen...\n",
      "\n",
      "---\n",
      "Main Country: India\n",
      "Other Countries: []\n",
      "Title: Kolkata: BJP workers protest against TMC govt's bill allowing women to work in bars\n",
      "Snippet: Kolkata, March 22 -- BJP workers in Kolkata staged a protest against the Trinamool Congress (TMC) government on Saturday, opposing a recently introduced bill that permits women to work in bars.\n",
      "\n",
      "The d...\n",
      "\n",
      "---\n",
      "Main Country: Netherlands\n",
      "Other Countries: ['Belgium', 'United States']\n",
      "Title: Press Release: ING to repurchase shares for employee compensation\n",
      "Snippet: ING to repurchase shares for employee compensation\n",
      "\n",
      "ING to repurchase shares for employee compensation...\n",
      "\n",
      "---\n",
      "Main Country: China\n",
      "Other Countries: []\n",
      "Title: 华发股份2024年稳健发展,政策助力房地产市场企稳\n",
      "Snippet: 　　随着房地产市场逐步止跌企稳,供求关系出现积极变化,国家一系列刺激政策的出台为行业带来了新的活力。在此背景下,珠海华发实业股份有限公司(以下简称“华发股份”)凭借精准的投拓策略和多元化的业务布局,在2024年实现了稳健的发展,为股东和社会交出了一份满意的答卷。\n",
      "\n",
      "　　政策驱动,房地产市场呈现止跌企稳曙光...\n",
      "\n",
      "---\n",
      "Main Country: China\n",
      "Other Countries: []\n",
      "Title: 河南安阳内黄：稳就业打出组合拳\n",
      "Snippet: 北京, 2025年2月12日 /中经网/ -- 2月6日，河南省安阳市内黄县2025年“春风行动”专场招聘活动在繁阳街道举行，集中开展送岗位、送服务、送政策、送温暖等服务。49家用人单位到场参加，为求职者提供500余个就业岗位，涵盖机械、电子、制造、农产品加工、物流、餐饮等多个领域。\n",
      "\n",
      "招聘会现场，求职者穿梭于各企业展台和面试摊位之间，就岗位要求、薪资待遇、职业发展等与招聘单位进行深入交流。...\n",
      "\n",
      "---\n",
      "Main Country: People's Republic of China\n",
      "Other Countries: []\n",
      "Title: Further Amended Notice of Implementation of Additional Duties on Products of the People's Republic of China Pursuant to the President's Executive Order 14195, Imposing Duties To Address the Synthetic Opioid Supply Chain in the People's Republic of China; Federal Register Extracts\n",
      "Snippet: Agency: \"U.S. Customs and Border Protection, Department of Homeland Security.\"...\n",
      "\n",
      "---\n",
      "Main Country: Argentina\n",
      "Other Countries: []\n",
      "Title: Caputo confirmed fiscal surplus for 2024, despite December deficit\n",
      "Snippet: The Minister of Economy, Luis Caputo, confirmed that the Government achieved a primary surplus of 1.8% of the GDP for 2024 and a 0.3% financial surplus.\n",
      "\n",
      "In December, a primary deficit of Ch$1,301,046...\n"
     ]
    }
   ],
   "source": [
    "# 2. SEARCH WITH PARTIAL MATCHING\n",
    "print(\"\\n🔍 1. Random sample of articles\")\n",
    "print(\"=\"*60)\n",
    "random_sample = analyzer.sample_articles(articles=all_articles, sample_size=10, method='random', seed=42)\n",
    "\n",
    "# Print key fields for the random sample\n",
    "print(\"\\nSample article details:\")\n",
    "for article in random_sample:\n",
    "    print(\"\\n---\")\n",
    "    print(f\"Main Country: {article.get('llm_main_country', 'N/A')}\")\n",
    "    print(f\"Other Countries: {article.get('llm_other_countries', [])}\")\n",
    "    print(f\"Title: {article.get('title', 'N/A')}\")\n",
    "    print(f\"Snippet: {article.get('snippet', 'N/A')[:200]}...\")"
   ]
  },
  {
   "cell_type": "code",
   "execution_count": 18,
   "id": "393aaf85",
   "metadata": {},
   "outputs": [
    {
     "name": "stdout",
     "output_type": "stream",
     "text": [
      "\n",
      "🔍 2. Partial matching for 'China' (finds China, Chinese, etc.)\n",
      "============================================================\n",
      "Found 49,063 articles with partial match for 'china'\n",
      "\n",
      "Examples showing different country variations:\n",
      "\n",
      "📰 Article 1:\n",
      "   Countries found: ['China']\n",
      "   All countries: ['China', 'United States']\n",
      "   Title: Fábricas chinas pausan producción y buscan mercados en Latinoamérica y Europa...\n",
      "\n",
      "📰 Article 2:\n",
      "   Countries found: ['China']\n",
      "   All countries: ['China', 'United States']\n",
      "   Title: China's trade countermeasures are justified self-defense against US bullying, ex...\n",
      "\n",
      "📰 Article 3:\n",
      "   Countries found: ['China']\n",
      "   All countries: ['China', 'Estados Unidos']\n",
      "   Title: China condena \"acoso económico\" de EEUU y dice que la globalización \"es el único...\n"
     ]
    }
   ],
   "source": [
    "# 2. SEARCH WITH PARTIAL MATCHING\n",
    "print(\"\\n🔍 2. Partial matching for 'China' (finds China, Chinese, etc.)\")\n",
    "print(\"=\"*60)\n",
    "\n",
    "china_articles = analyzer.search_articles_by_country(\"china\", case_sensitive=False, match_mode='partial')\n",
    "print(f\"Found {len(china_articles):,} articles with partial match for 'china'\")\n",
    "\n",
    "# Show examples with different variations\n",
    "print(\"\\nExamples showing different country variations:\")\n",
    "for i, article in enumerate(china_articles[:3], 1):\n",
    "    main_country = article.get('llm_main_country', '')\n",
    "    other_countries = article.get('llm_other_countries', [])\n",
    "    all_countries = [main_country] + other_countries if main_country else other_countries\n",
    "    \n",
    "    print(f\"\\n📰 Article {i}:\")\n",
    "    print(f\"   Countries found: {[c for c in all_countries if 'china' in c.lower()]}\")\n",
    "    print(f\"   All countries: {all_countries}\")\n",
    "    print(f\"   Title: {article.get('title', 'No title')[:80]}...\")\n"
   ]
  },
  {
   "cell_type": "code",
   "execution_count": 19,
   "id": "3e5add1e",
   "metadata": {},
   "outputs": [
    {
     "name": "stdout",
     "output_type": "stream",
     "text": [
      "\n",
      "🌐 3. Find articles mentioning multiple countries\n",
      "==================================================\n",
      "Found 30,947 articles mentioning Japan, Germany, or France\n",
      "\n",
      "Country distribution:\n",
      "   France: 17,644 articles\n",
      "   Japan: 8,315 articles\n",
      "   Germany: 9,427 articles\n",
      "\n",
      "Example articles:\n",
      "\n",
      "📰 France example:\n",
      "   Title: Bruselas asegura que «no hay indicios de un boicot o un ciberataque»...\n",
      "   All countries: ['Spain', 'Portugal', 'France']\n",
      "\n",
      "📰 Japan example:\n",
      "   Title: Las bolsas asiáticas reaccionan de forma dispar a los aranceles a China del 104%...\n",
      "   All countries: ['China', 'United States', 'Japan']\n",
      "\n",
      "📰 Germany example:\n",
      "   Title: Lagarde alerta del riesgo de que Europa se quede atrás en la revolución de la IA...\n",
      "   All countries: ['Germany', 'United States']\n"
     ]
    }
   ],
   "source": [
    "# 3. SEARCH FOR MULTIPLE COUNTRIES AT ONCE\n",
    "print(\"\\n🌐 3. Find articles mentioning multiple countries\")\n",
    "print(\"=\"*50)\n",
    "\n",
    "multiple_countries = [\"Japan\", \"Germany\", \"France\"]\n",
    "multi_articles = analyzer.search_articles_by_country(\"\", multiple_countries=multiple_countries)\n",
    "print(f\"Found {len(multi_articles):,} articles mentioning Japan, Germany, or France\")\n",
    "\n",
    "# Show distribution\n",
    "country_counts = {}\n",
    "for article in multi_articles:\n",
    "    main_country = article.get('llm_main_country', '')\n",
    "    other_countries = article.get('llm_other_countries', [])\n",
    "    all_countries = [main_country] + other_countries if main_country else other_countries\n",
    "    \n",
    "    for target in multiple_countries:\n",
    "        if target in all_countries:\n",
    "            country_counts[target] = country_counts.get(target, 0) + 1\n",
    "\n",
    "print(\"\\nCountry distribution:\")\n",
    "for country, count in country_counts.items():\n",
    "    print(f\"   {country}: {count:,} articles\")\n",
    "\n",
    "# Show one example for each\n",
    "print(\"\\nExample articles:\")\n",
    "shown_countries = set()\n",
    "for article in multi_articles[:10]:  # Check first 10 to find examples\n",
    "    main_country = article.get('llm_main_country', '')\n",
    "    other_countries = article.get('llm_other_countries', [])\n",
    "    all_countries = [main_country] + other_countries if main_country else other_countries\n",
    "    \n",
    "    for target in multiple_countries:\n",
    "        if target in all_countries and target not in shown_countries:\n",
    "            shown_countries.add(target)\n",
    "            print(f\"\\n📰 {target} example:\")\n",
    "            print(f\"   Title: {article.get('title', 'No title')[:80]}...\")\n",
    "            print(f\"   All countries: {all_countries}\")\n",
    "            break\n",
    "    \n",
    "    if len(shown_countries) == len(multiple_countries):\n",
    "        break\n"
   ]
  },
  {
   "cell_type": "code",
   "execution_count": 24,
   "id": "52b33db9",
   "metadata": {},
   "outputs": [
    {
     "name": "stdout",
     "output_type": "stream",
     "text": [
      "\n",
      "🎯 4. Advanced search with multiple criteria\n",
      "==================================================\n",
      "Found 0 articles about UK from Reuters or Bloomberg\n",
      "No articles found matching the criteria\n"
     ]
    }
   ],
   "source": [
    "# 4. ADVANCED MULTI-CRITERIA SEARCH\n",
    "print(\"\\n🎯 4. Advanced search with multiple criteria\")\n",
    "print(\"=\"*50)\n",
    "\n",
    "# Search for articles about specific countries from specific sources within date range\n",
    "criteria_articles = analyzer.search_articles_by_multiple_criteria(\n",
    "    countries=[\"United Kingdom\", \"UK\", \"Britain\"],\n",
    "    source_names=[\"Reuters\", \"Bloomberg\"],  # Only from these sources\n",
    "    #date_range=(\"2025-01-01\", \"2025-06-28\"),    # dates doens't work for now\n",
    "    case_sensitive=False\n",
    ")\n",
    "\n",
    "print(f\"Found {len(criteria_articles):,} articles about UK from Reuters or Bloomberg\")\n",
    "\n",
    "if criteria_articles:\n",
    "    print(\"\\nFirst 3 examples:\")\n",
    "    for i, article in enumerate(criteria_articles[:3], 1):\n",
    "        print(f\"\\n📰 Article {i}:\")\n",
    "        print(f\"   Source: {article.get('source_name', 'N/A')}\")\n",
    "        print(f\"   Countries: {[article.get('llm_main_country')] + article.get('llm_other_countries', [])}\")\n",
    "        print(f\"   Title: {article.get('title', 'No title')[:80]}...\")\n",
    "        if article.get('publication_date'):\n",
    "            print(f\"   Date: {article.get('publication_date')}\")\n",
    "else:\n",
    "    print(\"No articles found matching the criteria\")\n"
   ]
  },
  {
   "cell_type": "code",
   "execution_count": 25,
   "id": "8ef25cfc",
   "metadata": {},
   "outputs": [
    {
     "name": "stdout",
     "output_type": "stream",
     "text": [
      "\n",
      "🔍 5. Find specific article by ID\n",
      "========================================\n",
      "Looking for article ID: SURON00020250428el4s000fj\n",
      "\n",
      "✅ Article found!\n",
      "   Title: Bruselas asegura que «no hay indicios de un boicot o un ciberataque»\n",
      "   Main Country: Spain\n",
      "   Other Countries: ['Portugal', 'France']\n",
      "   Source: Sur Online\n"
     ]
    }
   ],
   "source": [
    "# 5. FIND SPECIFIC ARTICLE BY ID\n",
    "print(\"\\n🔍 5. Find specific article by ID\")\n",
    "print(\"=\"*40)\n",
    "\n",
    "# Get a random article ID from our dataset for demonstration\n",
    "if all_articles:\n",
    "    sample_article = all_articles[0]  # Use first article as example\n",
    "    sample_id = sample_article.get('an')\n",
    "    \n",
    "    print(f\"Looking for article ID: {sample_id}\")\n",
    "    \n",
    "    found_article = analyzer.find_article_by_id(sample_id)\n",
    "    if found_article:\n",
    "        print(\"\\n✅ Article found!\")\n",
    "        print(f\"   Title: {found_article.get('title', 'No title')}\")\n",
    "        print(f\"   Main Country: {found_article.get('llm_main_country', 'N/A')}\")\n",
    "        print(f\"   Other Countries: {found_article.get('llm_other_countries', [])}\")\n",
    "        print(f\"   Source: {found_article.get('source_name', 'N/A')}\")\n",
    "    else:\n",
    "        print(\"❌ Article not found\")\n"
   ]
  },
  {
   "cell_type": "markdown",
   "id": "51bc0c65",
   "metadata": {},
   "source": []
  },
  {
   "cell_type": "code",
   "execution_count": null,
   "id": "c06834cd",
   "metadata": {},
   "outputs": [],
   "source": []
  }
 ],
 "metadata": {
  "kernelspec": {
   "display_name": "factiva",
   "language": "python",
   "name": "python3"
  },
  "language_info": {
   "codemirror_mode": {
    "name": "ipython",
    "version": 3
   },
   "file_extension": ".py",
   "mimetype": "text/x-python",
   "name": "python",
   "nbconvert_exporter": "python",
   "pygments_lexer": "ipython3",
   "version": "3.12.0"
  }
 },
 "nbformat": 4,
 "nbformat_minor": 5
}
