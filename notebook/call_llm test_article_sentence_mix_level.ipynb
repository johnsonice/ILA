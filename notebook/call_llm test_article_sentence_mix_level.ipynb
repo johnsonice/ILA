{
 "cells": [
  {
   "cell_type": "code",
   "execution_count": 5,
   "id": "44cf19c4",
   "metadata": {},
   "outputs": [],
   "source": [
    "\n",
    "import sys\n",
    "import os\n",
    "from pathlib import Path\n",
    "#import instructor\n",
    "from pydantic import BaseModel\n",
    "sys.path.insert(0, '../libs')\n",
    "# Import SimpleLLMAgent from libs directory\n",
    "from pydantic import BaseModel, Field\n",
    "import json\n",
    "import io\n",
    "# Import our general LLM factory\n",
    "from llm_factory_openai import LLMAgent\n",
    "#from utils import download_hf_model\n",
    "from dotenv import load_dotenv\n",
    "# Load environment variables from .env file\n",
    "load_dotenv('../.env')\n",
    "api_key = os.getenv(\"OPENAI_API_KEY\")\n",
    "if not api_key:\n",
    "    raise ValueError(\"OPENAI_API_KEY not found in environment variables. Please check your .env file.\")\n"
   ]
  },
  {
   "cell_type": "markdown",
   "id": "6e95fde5",
   "metadata": {},
   "source": [
    "#### Test call closed source model api"
   ]
  },
  {
   "cell_type": "code",
   "execution_count": 10,
   "id": "bcddf293",
   "metadata": {},
   "outputs": [
    {
     "name": "stdout",
     "output_type": "stream",
     "text": [
      "OpenAI test result: Hi there! Yes, I can respond. How can I help you today? I can explain concepts, answer questions, help with writing, coding, math, planning, brainstorming, translations, and more. If you have a task, share some details and any constraints. For example, you could ask me to explain something simply, draft an email, debug code, plan a trip, or summarize an article. What would you like to do?\n"
     ]
    }
   ],
   "source": [
    "\n",
    "agent = LLMAgent(model='gpt-5-nano',\n",
    "                temperature=1,\n",
    "                api_key=os.getenv(\"OPENAI_API_KEY\"))\n",
    "result = agent.test_connection()\n",
    "print(f\"OpenAI test result: {result}\")"
   ]
  },
  {
   "cell_type": "code",
   "execution_count": 11,
   "id": "192aa8f5",
   "metadata": {},
   "outputs": [
    {
     "name": "stdout",
     "output_type": "stream",
     "text": [
      "Hi! Nice to meet you. What would you like to do today? I can help with explanations, writing, brainstorming ideas, coding, planning, or answering questions. Tell me what you need or drop a topic you’re curious about.\n"
     ]
    }
   ],
   "source": [
    "messages = [{\"role\": \"user\", \"content\": 'hi'}]\n",
    "response = agent.get_response_content(messages)\n",
    "print(response)"
   ]
  },
  {
   "cell_type": "code",
   "execution_count": 12,
   "id": "d86e954e",
   "metadata": {},
   "outputs": [],
   "source": [
    "news_article = \"\"\"\n",
    "WASHINGTON (Reuters) -The U.S. will make it more difficult for global chipmakers Samsung, SK Hynix and Intel to produce chips in China by revoking permission for the companies to receive American semiconductor manufacturing equipment there, according to the Federal Register.\n",
    "The U.S. Commerce Department had granted the authorizations for the companies to make chips in China as exceptions to sweeping restrictions on the sale of semiconductor equipment to China in 2022.\n",
    "The companies will now need to obtain licenses to buy the equipment in China.\n",
    "The licensing change will likely reduce sales to China by U.S. equipment makers KLA Corp, Lam Research and Applied Materials. The move may help domestic Chinese equipment makers, whose tools can fill gaps. They also may help Micron, a major U.S. competitor to South Korea's Samsung and SK Hynix in the memory chip sector. The authorizations will not take effect for 120 days, according to the posting.\n",
    "Intel sold its Dalian NAND memory manufacturing facility in China to Seoul-based SK Hynix several years ago, but continued to manufacture wafers into 2025.\n",
    "\"\"\"\n",
    "\n",
    "system_prompt = \"\"\" \n",
    "You are an economist and trade/industrial-policy expert at the International Monetary Fund (IMF). \n",
    "Your task is to determine the type of products that are targeted by policy interventions. \n",
    "\n",
    "The categories to consider include:\n",
    "\n",
    "* Medical Products: Includes medical consumables, vaccines, medicines, and medical equipment.\n",
    "* Military/Civilian Dual-Use Products: Items usable for both civilian and military applications. This includes certain machinery, hydrogen, or aerospace components used in both domains.\n",
    "* Low-Carbon Technology: Includes wind turbines, solar panels, biomass systems, carbon capture equipment, and other technologies contributing to the low-carbon transition.\n",
    "* Semiconductors: Semiconductors and related materials or technologies that enable semiconductor development.\n",
    "* Advanced Technology Products: Products that rely on cutting-edge technologies, including aerospace, opto-electronics, robotics, quantum, and nuclear technologies.\n",
    "* Critical Minerals: Minerals essential for manufacturing modern technology (e.g., lithium, cobalt, rare earths).\n",
    "* Steel and Aluminum: Includes crude or processed steel, iron, and aluminum products.\n",
    "* Chemicals: Includes basic and specialty chemicals such as petrochemicals, fertilizers, industrial compounds, and plastics.\n",
    "* Other: Use this when the sentence does not clearly fall into the categories above.\n",
    "\n",
    "**Process:**\n",
    "You will be given a list of sentences from a news article. \n",
    "1) Please read each sentence carefully and determine the most appropriate product category based on its content.\n",
    "2) Output only a JSON array of objects, where each object contains:  \n",
    "   - \"sentence_id\": integer (starting from 1)  \n",
    "   - \"tags\": list of product categories  \n",
    "\n",
    "**Rules:**\n",
    "- More than one category may apply; list them all in \"tags\".  \n",
    "- Always output in English.  \n",
    "- Do NOT include the raw sentence text in the output. only return sentence id \n",
    "- Return only valid JSON.  \n",
    "\n",
    "Example output format:\n",
    "[\n",
    "  {\"sentence_id\": 1, \"tags\": [\"Semiconductors\"]},\n",
    "  {\"sentence_id\": 2, \"tags\": [\"Semiconductors\", \"Advanced Technology Products\"]}\n",
    "]\n",
    "\n",
    "\"\"\""
   ]
  },
  {
   "cell_type": "code",
   "execution_count": 15,
   "id": "629dbcf2",
   "metadata": {},
   "outputs": [],
   "source": [
    "sentences = [sentence.strip() for sentence in news_article.split(\". \") if sentence]\n",
    "sentences_with_id = '\\n'.join([\"id {}: {}\".format(i+1,s) for i, s in enumerate(sentences)])"
   ]
  },
  {
   "cell_type": "code",
   "execution_count": 17,
   "id": "f7516818",
   "metadata": {},
   "outputs": [
    {
     "name": "stdout",
     "output_type": "stream",
     "text": [
      "id 1: WASHINGTON (Reuters) -The U.S\n",
      "id 2: will make it more difficult for global chipmakers Samsung, SK Hynix and Intel to produce chips in China by revoking permission for the companies to receive American semiconductor manufacturing equipment there, according to the Federal Register.\n",
      "The U.S\n",
      "id 3: Commerce Department had granted the authorizations for the companies to make chips in China as exceptions to sweeping restrictions on the sale of semiconductor equipment to China in 2022.\n",
      "The companies will now need to obtain licenses to buy the equipment in China.\n",
      "The licensing change will likely reduce sales to China by U.S\n",
      "id 4: equipment makers KLA Corp, Lam Research and Applied Materials\n",
      "id 5: The move may help domestic Chinese equipment makers, whose tools can fill gaps\n",
      "id 6: They also may help Micron, a major U.S\n",
      "id 7: competitor to South Korea's Samsung and SK Hynix in the memory chip sector\n",
      "id 8: The authorizations will not take effect for 120 days, according to the posting.\n",
      "Intel sold its Dalian NAND memory manufacturing facility in China to Seoul-based SK Hynix several years ago, but continued to manufacture wafers into 2025.\n"
     ]
    }
   ],
   "source": [
    "print(sentences_with_id)\n"
   ]
  },
  {
   "cell_type": "code",
   "execution_count": 18,
   "id": "204ca2cf",
   "metadata": {},
   "outputs": [
    {
     "name": "stdout",
     "output_type": "stream",
     "text": [
      "[\n",
      "  {\"sentence_id\": 1, \"tags\": [\"Semiconductors\"]},\n",
      "  {\"sentence_id\": 2, \"tags\": [\"Semiconductors\"]},\n",
      "  {\"sentence_id\": 3, \"tags\": [\"Semiconductors\"]},\n",
      "  {\"sentence_id\": 4, \"tags\": [\"Semiconductors\"]},\n",
      "  {\"sentence_id\": 5, \"tags\": [\"Semiconductors\"]},\n",
      "  {\"sentence_id\": 6, \"tags\": [\"Semiconductors\"]},\n",
      "  {\"sentence_id\": 7, \"tags\": [\"Semiconductors\"]},\n",
      "  {\"sentence_id\": 8, \"tags\": [\"Semiconductors\"]}\n",
      "]\n"
     ]
    }
   ],
   "source": [
    "messages = [{\"role\": \"system\", \"content\": system_prompt},\n",
    "            {\"role\": \"user\", \"content\": sentences_with_id}]\n",
    "response = agent.get_response_content(messages)\n",
    "print(response)"
   ]
  },
  {
   "cell_type": "code",
   "execution_count": null,
   "id": "0167c0ba",
   "metadata": {},
   "outputs": [],
   "source": []
  }
 ],
 "metadata": {
  "kernelspec": {
   "display_name": "Python 3",
   "language": "python",
   "name": "python3"
  },
  "language_info": {
   "codemirror_mode": {
    "name": "ipython",
    "version": 3
   },
   "file_extension": ".py",
   "mimetype": "text/x-python",
   "name": "python",
   "nbconvert_exporter": "python",
   "pygments_lexer": "ipython3",
   "version": "3.11.11"
  }
 },
 "nbformat": 4,
 "nbformat_minor": 5
}
